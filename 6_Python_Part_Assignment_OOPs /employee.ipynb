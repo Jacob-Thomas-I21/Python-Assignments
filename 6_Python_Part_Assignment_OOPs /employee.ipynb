{
  "nbformat": 4,
  "nbformat_minor": 0,
  "metadata": {
    "colab": {
      "provenance": []
    },
    "kernelspec": {
      "name": "python3",
      "display_name": "Python 3"
    },
    "language_info": {
      "name": "python"
    }
  },
  "cells": [
    {
      "cell_type": "markdown",
      "source": [
        "# **Excercise 2**"
      ],
      "metadata": {
        "id": "OQpZlfTCqlUI"
      }
    },
    {
      "cell_type": "code",
      "source": [
        "class Employee:\n",
        "    def __init__(self, name, salary):\n",
        "        self.name = name\n",
        "        self.salary = salary\n",
        "\n",
        "    def get_name(self):\n",
        "        return self.name\n",
        "\n",
        "    def get_salary(self):\n",
        "        return self.salary\n"
      ],
      "metadata": {
        "id": "cWBurXdDr0yR"
      },
      "execution_count": null,
      "outputs": []
    }
  ]
}
