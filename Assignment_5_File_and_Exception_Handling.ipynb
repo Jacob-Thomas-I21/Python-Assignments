{
  "nbformat": 4,
  "nbformat_minor": 0,
  "metadata": {
    "colab": {
      "provenance": []
    },
    "kernelspec": {
      "name": "python3",
      "display_name": "Python 3"
    },
    "language_info": {
      "name": "python"
    }
  },
  "cells": [
    {
      "cell_type": "markdown",
      "source": [
        "# **Exercise 1: Read and display file contents**"
      ],
      "metadata": {
        "id": "JYE3W7IC5TIa"
      }
    },
    {
      "cell_type": "code",
      "execution_count": 4,
      "metadata": {
        "colab": {
          "base_uri": "https://localhost:8080/"
        },
        "id": "6rq7xdBn04Ns",
        "outputId": "aafe4f3f-436e-4ebf-f0f2-fffc93ed446e"
      },
      "outputs": [
        {
          "output_type": "stream",
          "name": "stdout",
          "text": [
            "File Contents:\n",
            " This is a sample text file.\n",
            "It contains multiple lines of text.\n",
            "Python is used to read and process this file.\n",
            "File handling is an important concept in Python.\n",
            "\n"
          ]
        }
      ],
      "source": [
        "def read_file(filename):\n",
        "    try:\n",
        "        with open(filename, 'r') as file:\n",
        "            content = file.read()\n",
        "            print(\"File Contents:\\n\", content)\n",
        "    except FileNotFoundError:\n",
        "        print(\"Error: File not found.\")\n",
        "    except Exception as e:\n",
        "        print(\"Error:\", e)\n",
        "read_file(\"sample.txt\")\n",
        "\n"
      ]
    },
    {
      "cell_type": "markdown",
      "source": [
        "# **Exercise 2: Copy contents of one file to another**"
      ],
      "metadata": {
        "id": "GW_by-Ot5hGg"
      }
    },
    {
      "cell_type": "code",
      "source": [
        "def copy_file(source_file, destination_file):\n",
        "    try:\n",
        "        with open(source_file, 'r') as src, open(destination_file, 'w') as dest:\n",
        "            dest.write(src.read())\n",
        "        print(f\"Contents copied from {source_file} to {destination_file}\")\n",
        "    except FileNotFoundError:\n",
        "        print(\"Error: Source file not found.\")\n",
        "    except Exception as e:\n",
        "        print(\"Error:\", e)\n",
        "copy_file(\"sample.txt\", \"copy.txt\")"
      ],
      "metadata": {
        "id": "VmvaKbkQ5hlh",
        "colab": {
          "base_uri": "https://localhost:8080/"
        },
        "outputId": "8f74f1fa-f514-49c2-8568-8d92a4d79deb"
      },
      "execution_count": 5,
      "outputs": [
        {
          "output_type": "stream",
          "name": "stdout",
          "text": [
            "Contents copied from sample.txt to copy.txt\n"
          ]
        }
      ]
    },
    {
      "cell_type": "markdown",
      "source": [
        "# **Exercise 3: Count the total number of words in a file**"
      ],
      "metadata": {
        "id": "a6bHBXUS5lSu"
      }
    },
    {
      "cell_type": "code",
      "source": [
        "def count_words(filename):\n",
        "    try:\n",
        "        with open(filename, 'r') as file:\n",
        "            content = file.read()\n",
        "            word_count = len(content.split())\n",
        "            print(f\"Total number of words in {filename}: {word_count}\")\n",
        "    except FileNotFoundError:\n",
        "        print(\"Error: File not found.\")\n",
        "    except Exception as e:\n",
        "        print(\"Error:\", e)\n",
        "count_words(\"sample.txt\")"
      ],
      "metadata": {
        "id": "1MUhj5XS5lSv",
        "colab": {
          "base_uri": "https://localhost:8080/"
        },
        "outputId": "ca3bc56b-54a5-4862-f490-adca4e300dbf"
      },
      "execution_count": 6,
      "outputs": [
        {
          "output_type": "stream",
          "name": "stdout",
          "text": [
            "Total number of words in sample.txt: 29\n"
          ]
        }
      ]
    },
    {
      "cell_type": "markdown",
      "source": [
        "# **Exercise 4: Convert user input string to an integer with exception handling**"
      ],
      "metadata": {
        "id": "wlGOpF8S5lmW"
      }
    },
    {
      "cell_type": "code",
      "source": [
        "def convert_to_integer():\n",
        "    try:\n",
        "        num = int(input(\"Enter a number: \"))\n",
        "        print(f\"Successfully converted to integer: {num}\")\n",
        "    except ValueError:\n",
        "        print(\"Error: Please enter a valid integer.\")\n",
        "convert_to_integer()"
      ],
      "metadata": {
        "id": "AXGemKEk5lmW",
        "colab": {
          "base_uri": "https://localhost:8080/"
        },
        "outputId": "42752d53-0f15-4482-cc42-b619e5d15434"
      },
      "execution_count": 7,
      "outputs": [
        {
          "output_type": "stream",
          "name": "stdout",
          "text": [
            "Enter a number: 76\n",
            "Successfully converted to integer: 76\n"
          ]
        }
      ]
    },
    {
      "cell_type": "markdown",
      "source": [
        "# **Exercise 5: Check for negative numbers in user-input list**"
      ],
      "metadata": {
        "id": "fZcjJLeU5mC2"
      }
    },
    {
      "cell_type": "code",
      "source": [
        "def check_negative_numbers():\n",
        "    try:\n",
        "        nums = list(map(int, input(\"Enter a list of integers separated by space: \").split()))\n",
        "        if any(n < 0 for n in nums):\n",
        "            raise ValueError(\"Negative numbers are not allowed!\")\n",
        "        print(\"All numbers are valid:\", nums)\n",
        "    except ValueError as e:\n",
        "        print(\"Error:\", e)\n",
        "check_negative_numbers()"
      ],
      "metadata": {
        "id": "tFwBzPJV5mC3",
        "colab": {
          "base_uri": "https://localhost:8080/"
        },
        "outputId": "26be3a4b-058a-4b22-fcda-06361a25e238"
      },
      "execution_count": 10,
      "outputs": [
        {
          "output_type": "stream",
          "name": "stdout",
          "text": [
            "Enter a list of integers separated by space: -1\n",
            "Error: Negative numbers are not allowed!\n"
          ]
        }
      ]
    },
    {
      "cell_type": "markdown",
      "source": [
        "# **Exercise 6: Compute average of user-input list with exception handling**"
      ],
      "metadata": {
        "id": "CRPvVoH85nk9"
      }
    },
    {
      "cell_type": "code",
      "source": [
        "def compute_average():\n",
        "    try:\n",
        "        nums = list(map(int, input(\"Enter a list of integers separated by space: \").split()))\n",
        "        avg = sum(nums) / len(nums)\n",
        "        print(f\"Average of the numbers: {avg}\")\n",
        "    except ZeroDivisionError:\n",
        "        print(\"Error: Cannot compute average of an empty list.\")\n",
        "    except ValueError:\n",
        "        print(\"Error: Please enter valid integers.\")\n",
        "    finally:\n",
        "        print(\"Program execution finished.\")\n",
        "compute_average()"
      ],
      "metadata": {
        "id": "lqcikS_25nk9",
        "colab": {
          "base_uri": "https://localhost:8080/"
        },
        "outputId": "2dfb35ea-5723-48c6-bccd-cefd1a4a6f56"
      },
      "execution_count": 11,
      "outputs": [
        {
          "output_type": "stream",
          "name": "stdout",
          "text": [
            "Enter a list of integers separated by space: 5 1045\n",
            "Average of the numbers: 525.0\n",
            "Program execution finished.\n"
          ]
        }
      ]
    },
    {
      "cell_type": "markdown",
      "source": [
        "# **Exercise 7: Write a string to a user-defined file with exception handling**"
      ],
      "metadata": {
        "id": "j0Hmd_SL5n2N"
      }
    },
    {
      "cell_type": "code",
      "source": [
        "def write_to_file():\n",
        "    try:\n",
        "        filename = input(\"Enter the filename to write: \")\n",
        "        content = input(\"Enter the content to write into the file: \")\n",
        "        with open(filename, 'w') as file:\n",
        "            file.write(content)\n",
        "        print(\"File written successfully.\")\n",
        "    except Exception as e:\n",
        "        print(\"Error:\", e)\n",
        "    else:\n",
        "        print(\"Welcome! No errors encountered.\")\n",
        "write_to_file()\n"
      ],
      "metadata": {
        "id": "8a4OtpmD5n2O",
        "colab": {
          "base_uri": "https://localhost:8080/"
        },
        "outputId": "84636aa7-95b5-447a-f27b-60aeeb0fafc8"
      },
      "execution_count": 13,
      "outputs": [
        {
          "output_type": "stream",
          "name": "stdout",
          "text": [
            "Enter the filename to write: Entri\n",
            "Enter the content to write into the file: This sample file is for entri assignment\n",
            "File written successfully.\n",
            "Welcome! No errors encountered.\n"
          ]
        }
      ]
    },
    {
      "cell_type": "code",
      "source": [
        "\n",
        "\n",
        "\n",
        "\n",
        "\n",
        "\n",
        "\n",
        "\n",
        "\n"
      ],
      "metadata": {
        "id": "8jNFIakA5ioZ"
      },
      "execution_count": null,
      "outputs": []
    }
  ]
}