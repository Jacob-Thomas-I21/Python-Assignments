{
  "nbformat": 4,
  "nbformat_minor": 0,
  "metadata": {
    "colab": {
      "provenance": []
    },
    "kernelspec": {
      "name": "python3",
      "display_name": "Python 3"
    },
    "language_info": {
      "name": "python"
    }
  },
  "cells": [
    {
      "cell_type": "markdown",
      "source": [
        "# **Excercise 1**"
      ],
      "metadata": {
        "id": "KsC92Bo4UzHl"
      }
    },
    {
      "cell_type": "code",
      "source": [
        "import numpy as np\n",
        "\n",
        "arr = np.arange(1, 11)\n",
        "\n",
        "matrix = arr.reshape(2, 5)\n",
        "\n",
        "print(f\"2x5 rehsaped Matrix is :{matrix}\")\n",
        "\n",
        "\n"
      ],
      "metadata": {
        "id": "BB4D9HA5U2Xe",
        "outputId": "8db10b7c-bebf-4390-a135-b03296d8b465",
        "colab": {
          "base_uri": "https://localhost:8080/"
        }
      },
      "execution_count": 1,
      "outputs": [
        {
          "output_type": "stream",
          "name": "stdout",
          "text": [
            "2x5 rehsaped Matrix is :[[ 1  2  3  4  5]\n",
            " [ 6  7  8  9 10]]\n"
          ]
        }
      ]
    },
    {
      "cell_type": "markdown",
      "source": [
        "# **Excercise 2**"
      ],
      "metadata": {
        "id": "-KbqFXxPU72I"
      }
    },
    {
      "cell_type": "code",
      "source": [
        "arr = np.arange(1, 21)\n",
        "\n",
        "extracted_elements = arr[5:15]\n",
        "\n",
        "print(f\"Extracted Elements (Index 5 to 14):{extracted_elements}\")\n"
      ],
      "metadata": {
        "id": "0M7UDEY3VJXA",
        "outputId": "769b5f0a-dd81-4485-a589-2b18664c331d",
        "colab": {
          "base_uri": "https://localhost:8080/"
        }
      },
      "execution_count": 2,
      "outputs": [
        {
          "output_type": "stream",
          "name": "stdout",
          "text": [
            "Extracted Elements (Index 5 to 14):[ 6  7  8  9 10 11 12 13 14 15]\n"
          ]
        }
      ]
    },
    {
      "cell_type": "markdown",
      "source": [
        "# **Excercise 3**"
      ],
      "metadata": {
        "id": "nakKx_BNU8EI"
      }
    },
    {
      "cell_type": "code",
      "source": [
        "import pandas as pd\n",
        "\n",
        "\n",
        "fruits = pd.Series({'apples': 3, 'bananas': 2, 'oranges': 1})\n",
        "\n",
        "fruits['pears'] = 4\n",
        "\n",
        "print(f\"Updated Series:{fruits}\")\n",
        "\n"
      ],
      "metadata": {
        "id": "8CaRpB1hV9gs",
        "outputId": "51efe47b-bda3-48bc-b952-2f8762549715",
        "colab": {
          "base_uri": "https://localhost:8080/"
        }
      },
      "execution_count": 3,
      "outputs": [
        {
          "output_type": "stream",
          "name": "stdout",
          "text": [
            "Updated Series:apples     3\n",
            "bananas    2\n",
            "oranges    1\n",
            "pears      4\n",
            "dtype: int64\n"
          ]
        }
      ]
    },
    {
      "cell_type": "markdown",
      "source": [
        "# **Excercise 4**"
      ],
      "metadata": {
        "id": "LXJRAx3SU8Mf"
      }
    },
    {
      "cell_type": "code",
      "source": [
        "data = {\n",
        "    'name': ['John', 'Alice', 'Bob', 'Emma', 'Raj', 'Liam', 'Sophia', 'David', 'Olivia', 'Mia'],\n",
        "    'age': [25, 30, 28, 24, 35, 40, 22, 31, 27, 26],\n",
        "    'gender': ['M', 'F', 'M', 'F', 'M', 'M', 'F', 'M', 'F', 'F']\n",
        "}\n",
        "\n",
        "df = pd.DataFrame(data)\n",
        "\n",
        "print(f\"DataFrame:{df}\")\n",
        "\n"
      ],
      "metadata": {
        "id": "nxZ3RPQQWHt9",
        "outputId": "5319de69-ecff-4527-eea8-124e0fbe5731",
        "colab": {
          "base_uri": "https://localhost:8080/"
        }
      },
      "execution_count": 4,
      "outputs": [
        {
          "output_type": "stream",
          "name": "stdout",
          "text": [
            "DataFrame:     name  age gender\n",
            "0    John   25      M\n",
            "1   Alice   30      F\n",
            "2     Bob   28      M\n",
            "3    Emma   24      F\n",
            "4     Raj   35      M\n",
            "5    Liam   40      M\n",
            "6  Sophia   22      F\n",
            "7   David   31      M\n",
            "8  Olivia   27      F\n",
            "9     Mia   26      F\n"
          ]
        }
      ]
    },
    {
      "cell_type": "markdown",
      "source": [
        "# **Excercise 5**"
      ],
      "metadata": {
        "id": "GdWVNvKhU8Q_"
      }
    },
    {
      "cell_type": "code",
      "source": [
        "df['occupation'] = ['Programmer', 'Manager', 'Analyst', 'Programmer', 'Manager', 'Analyst', 'Programmer', 'Manager', 'Analyst', 'Programmer']\n",
        "\n",
        "print(f\"DataFrame with Occupation Column:{df}\")\n",
        "\n"
      ],
      "metadata": {
        "id": "l1Shuh6sWSIY",
        "outputId": "c7d77c41-5bcd-4734-be64-29d0392c1ab1",
        "colab": {
          "base_uri": "https://localhost:8080/"
        }
      },
      "execution_count": 5,
      "outputs": [
        {
          "output_type": "stream",
          "name": "stdout",
          "text": [
            "DataFrame with Occupation Column:     name  age gender  occupation\n",
            "0    John   25      M  Programmer\n",
            "1   Alice   30      F     Manager\n",
            "2     Bob   28      M     Analyst\n",
            "3    Emma   24      F  Programmer\n",
            "4     Raj   35      M     Manager\n",
            "5    Liam   40      M     Analyst\n",
            "6  Sophia   22      F  Programmer\n",
            "7   David   31      M     Manager\n",
            "8  Olivia   27      F     Analyst\n",
            "9     Mia   26      F  Programmer\n"
          ]
        }
      ]
    },
    {
      "cell_type": "markdown",
      "source": [
        "# **Excercise 6**"
      ],
      "metadata": {
        "id": "uoxkDIBxU8UY"
      }
    },
    {
      "cell_type": "code",
      "source": [
        "age_30_plus = df[df['age'] >= 30]\n",
        "\n",
        "print(f\"Employees with Age >= 30:{age_30_plus}\")\n",
        "\n"
      ],
      "metadata": {
        "id": "pAcLCQmaWY_y",
        "outputId": "82943268-cc63-45ad-801b-ece6ccc3d8e5",
        "colab": {
          "base_uri": "https://localhost:8080/"
        }
      },
      "execution_count": 6,
      "outputs": [
        {
          "output_type": "stream",
          "name": "stdout",
          "text": [
            "Employees with Age >= 30:    name  age gender occupation\n",
            "1  Alice   30      F    Manager\n",
            "4    Raj   35      M    Manager\n",
            "5   Liam   40      M    Analyst\n",
            "7  David   31      M    Manager\n"
          ]
        }
      ]
    },
    {
      "cell_type": "markdown",
      "source": [
        "# **Excercise 7**"
      ],
      "metadata": {
        "id": "pQLlHYUwU8dA"
      }
    },
    {
      "cell_type": "code",
      "execution_count": 7,
      "metadata": {
        "id": "uuUEIPE6UyR2",
        "outputId": "9734038d-9fba-42a5-a1ff-dbd9ff03efd1",
        "colab": {
          "base_uri": "https://localhost:8080/"
        }
      },
      "outputs": [
        {
          "output_type": "stream",
          "name": "stdout",
          "text": [
            "DataFrame read from CSV:     name  age gender  occupation\n",
            "0    John   25      M  Programmer\n",
            "1   Alice   30      F     Manager\n",
            "2     Bob   28      M     Analyst\n",
            "3    Emma   24      F  Programmer\n",
            "4     Raj   35      M     Manager\n",
            "5    Liam   40      M     Analyst\n",
            "6  Sophia   22      F  Programmer\n",
            "7   David   31      M     Manager\n",
            "8  Olivia   27      F     Analyst\n",
            "9     Mia   26      F  Programmer\n"
          ]
        }
      ],
      "source": [
        "df.to_csv('employees.csv', index=False)\n",
        "\n",
        "df_from_csv = pd.read_csv('employees.csv')\n",
        "\n",
        "print(f\"DataFrame read from CSV:{df_from_csv}\")\n",
        "\n"
      ]
    }
  ]
}
