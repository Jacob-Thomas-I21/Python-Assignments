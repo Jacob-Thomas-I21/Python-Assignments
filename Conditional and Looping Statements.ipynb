{
  "nbformat": 4,
  "nbformat_minor": 0,
  "metadata": {
    "colab": {
      "provenance": []
    },
    "kernelspec": {
      "name": "python3",
      "display_name": "Python 3"
    },
    "language_info": {
      "name": "python"
    }
  },
  "cells": [
    {
      "cell_type": "markdown",
      "source": [
        "#**Question 1**\n"
      ],
      "metadata": {
        "id": "9IWYP4LA9Qw3"
      }
    },
    {
      "cell_type": "code",
      "execution_count": 4,
      "metadata": {
        "colab": {
          "base_uri": "https://localhost:8080/"
        },
        "id": "Uj540axTTN5H",
        "outputId": "4034ae4c-9e4d-4b9e-c99d-6af2f2f77166"
      },
      "outputs": [
        {
          "output_type": "stream",
          "name": "stdout",
          "text": [
            "Enter the number :5\n",
            "The month is May\n"
          ]
        }
      ],
      "source": [
        "while True:\n",
        "  Number = int(input(\"Enter the number :\"))\n",
        "  if 1<= Number <= 12:\n",
        "    months = [\"January\", \"February\", \"March\", \"April\", \"May\", \"June\", \"July\", \"August\", \"September\", \"October\", \"November\", \"December\"]\n",
        "    print(f\"The month is {months[Number-1]}\")\n",
        "    break\n",
        "  else:\n",
        "    print(\"Invalid input! Please try again.\")\n"
      ]
    },
    {
      "cell_type": "markdown",
      "source": [
        "#**Question 2**\n"
      ],
      "metadata": {
        "id": "OpCLNrOY-9o0"
      }
    },
    {
      "cell_type": "code",
      "source": [
        "ticket_price = 6.00\n",
        "age = int(input(\"Enter Your Age :\"))\n",
        "if age >= 60 :\n",
        "  ticket_price = ticket_price / 3\n",
        "  print(f\"You are eligible for a one-third price ticket. Your ticket price is £{ticket_price}\")\n",
        "elif age < 16:\n",
        "  ticket_price = ticket_price / 2\n",
        "  print(f\"You are eligible for a half price ticket. Your ticket price is £{ticket_price}\")\n",
        "else:\n",
        "  full_price = ticket_price\n",
        "  print(f\"Your ticket price is £{full_price}.\")\n"
      ],
      "metadata": {
        "colab": {
          "base_uri": "https://localhost:8080/"
        },
        "id": "g2B-67tj-ddH",
        "outputId": "8e12b3dc-c21a-4104-d18f-44961c5b129d"
      },
      "execution_count": 8,
      "outputs": [
        {
          "output_type": "stream",
          "name": "stdout",
          "text": [
            "Enter Your Age :30\n",
            "Your ticket price is £6.0.\n"
          ]
        }
      ]
    },
    {
      "cell_type": "markdown",
      "source": [
        "#**Question 3**\n"
      ],
      "metadata": {
        "id": "P-oTLrYFBk7c"
      }
    },
    {
      "cell_type": "code",
      "source": [
        "Weight = float(input(\"Enter Your Weight(in kgs) :\"))\n",
        "Height = float(input(\"Enter Your Height(in m) :\"))\n",
        "if Weight <= 0 or Height <= 0:\n",
        "    print(\"Please enter valid positive numbers for weight and height.\")\n",
        "else:\n",
        "  BMI = Weight / (Height*Height)\n",
        "  if BMI < 18.5 :\n",
        "    Category = \"Underweight\"\n",
        "    Direction = \"Consider gaining weight to reach a healthier range.\"\n",
        "  elif 18.5 <= BMI <= 24.9:\n",
        "    Category = \"Normal\"\n",
        "    Direction = \"Great job! Keep maintaining your current weight.\"\n",
        "  elif 25 <= BMI <= 29.9:\n",
        "    Category = \"Overweight\"\n",
        "    Direction = \"Consider losing weight to improve your health.\"\n",
        "  elif 30 <= BMI :\n",
        "    Category = \"Obese\"\n",
        "    Direction = \"It's important to work towards a healthier weight range.\"\n",
        "  print(f\"Your BMI is {BMI:.2f}\")\n",
        "  print(f\"You are in the {Category} range. {Direction}, Thank You\")\n"
      ],
      "metadata": {
        "colab": {
          "base_uri": "https://localhost:8080/"
        },
        "id": "UqXA4d8iBFEh",
        "outputId": "8e85be2e-e21c-4e3d-df69-cd7769ea5781"
      },
      "execution_count": 26,
      "outputs": [
        {
          "output_type": "stream",
          "name": "stdout",
          "text": [
            "Enter Your Weight(in kgs) :83.\n",
            "Enter Your Height(in m) :1.83\n",
            "Your BMI is 24.78\n",
            "You are in the Normal range. Great job! Keep maintaining your current weight., Thank You\n"
          ]
        }
      ]
    },
    {
      "cell_type": "markdown",
      "source": [
        "#**Question 4**\n"
      ],
      "metadata": {
        "id": "_8pTnxctJgOV"
      }
    },
    {
      "cell_type": "code",
      "source": [
        "list1 =[]\n",
        "greatest = None\n",
        "for i in range(3):\n",
        "  num =(float(input(\"Enter your number :\")))\n",
        "  list1.append(num)\n",
        "  if greatest == None or num > greatest:\n",
        "    greatest = num\n",
        "\n",
        "print(f\"Your number are {list1}, and the greatest among them is {greatest} \")"
      ],
      "metadata": {
        "colab": {
          "base_uri": "https://localhost:8080/"
        },
        "id": "wF177BpkDocA",
        "outputId": "05a0e951-8fde-446b-bea4-6e99bc100f74"
      },
      "execution_count": 22,
      "outputs": [
        {
          "output_type": "stream",
          "name": "stdout",
          "text": [
            "Enter your number :8\n",
            "Enter your number :9\n",
            "Enter your number :-13\n",
            "Your number are [8.0, 9.0, -13.0], and the greatest among them is 9.0 \n"
          ]
        }
      ]
    },
    {
      "cell_type": "markdown",
      "source": [
        "#**Question 5**\n"
      ],
      "metadata": {
        "id": "3sdu6jUUJjW5"
      }
    },
    {
      "cell_type": "code",
      "source": [
        "num = int(input(\"Enter your number: \"))\n",
        "\n",
        "factorial = 1\n",
        "if num < 0:\n",
        "    print(\"Factorial is not defined for negative numbers.\")\n",
        "elif num == 0 or num == 1:\n",
        "    factorial = 1\n",
        "else:\n",
        "    while num > 1:\n",
        "        factorial *= num\n",
        "        num -= 1\n",
        "print(f\"The factorial is {factorial}.\")\n"
      ],
      "metadata": {
        "colab": {
          "base_uri": "https://localhost:8080/"
        },
        "id": "MDLkXYbqJq-v",
        "outputId": "7c149c00-68f0-4045-c204-e9ec73288d7b"
      },
      "execution_count": 4,
      "outputs": [
        {
          "output_type": "stream",
          "name": "stdout",
          "text": [
            "Enter your number: 5\n",
            "The factorial is 120.\n"
          ]
        }
      ]
    },
    {
      "cell_type": "markdown",
      "source": [
        "#**Question 6**\n"
      ],
      "metadata": {
        "id": "QS_vw2A0Jjz4"
      }
    },
    {
      "cell_type": "code",
      "source": [
        "\n",
        "num = int(input(\"Enter a number: \"))\n",
        "\n",
        "reversed_num = 0\n",
        "while num > 0:\n",
        "    digit = num % 10\n",
        "    reversed_num = reversed_num * 10 + digit\n",
        "    num = num // 10\n",
        "print(f\"The reversed number is: {reversed_num}\")\n"
      ],
      "metadata": {
        "colab": {
          "base_uri": "https://localhost:8080/"
        },
        "id": "QCWLz4ihLNEh",
        "outputId": "0eec02ca-087a-40c9-d76d-316e390c30a0"
      },
      "execution_count": 6,
      "outputs": [
        {
          "output_type": "stream",
          "name": "stdout",
          "text": [
            "Enter a number: 56\n",
            "The reversed number is: 65\n"
          ]
        }
      ]
    },
    {
      "cell_type": "markdown",
      "source": [
        "#**Question 7**\n"
      ],
      "metadata": {
        "id": "lzT6Ex93Jj6G"
      }
    },
    {
      "cell_type": "code",
      "source": [
        "num = int(input(\"Enter a number: \"))\n",
        "\n",
        "multiples= []\n",
        "for i in range(1,11):\n",
        "  multiples.append(num*i)\n",
        "print(f\"The multiples of {num} are {multiples}\")\n"
      ],
      "metadata": {
        "colab": {
          "base_uri": "https://localhost:8080/"
        },
        "id": "570NJR9wMJnL",
        "outputId": "08e82b33-dd51-4de8-c622-51bbe396a42d"
      },
      "execution_count": 10,
      "outputs": [
        {
          "output_type": "stream",
          "name": "stdout",
          "text": [
            "Enter a number: 12\n",
            "The multiples of 12 are [12, 24, 36, 48, 60, 72, 84, 96, 108, 120]\n"
          ]
        }
      ]
    },
    {
      "cell_type": "markdown",
      "source": [
        "#**Question 8**\n"
      ],
      "metadata": {
        "id": "IrhyMcUeJmQI"
      }
    },
    {
      "cell_type": "code",
      "source": [
        "while True:\n",
        "    semi_infinite_loop = input(\"Enter your value: \")\n",
        "    print(semi_infinite_loop)\n",
        "    if semi_infinite_loop.lower() == \"done\":\n",
        "        break\n"
      ],
      "metadata": {
        "colab": {
          "base_uri": "https://localhost:8080/"
        },
        "id": "AFOW1XR5NHVn",
        "outputId": "08abbdf5-54ab-4ab7-d11e-2c317308b0b1"
      },
      "execution_count": 12,
      "outputs": [
        {
          "output_type": "stream",
          "name": "stdout",
          "text": [
            "Enter your value: Done\n",
            "Done\n"
          ]
        }
      ]
    },
    {
      "cell_type": "markdown",
      "source": [
        "#**Question 9**\n",
        "\n"
      ],
      "metadata": {
        "id": "_NhKUMxVJmhq"
      }
    },
    {
      "cell_type": "code",
      "source": [
        "list = []\n",
        "for i in range(1,11):\n",
        "  if i % 3 ==0 and i % 5 == 0:\n",
        "    list.append(\"FizzBuzz\")\n",
        "  elif i%3 ==0:\n",
        "    list.append(\"Fizz\")\n",
        "  elif i% 5 == 0:\n",
        "    list.append(\"Buzz\")\n",
        "  else:\n",
        "    list.append(i)\n",
        "print(f\"The final list is : {list}\")\n"
      ],
      "metadata": {
        "colab": {
          "base_uri": "https://localhost:8080/"
        },
        "id": "PaDHCWcsOSXH",
        "outputId": "8c8e1a98-8153-441f-8634-a8161cd65027"
      },
      "execution_count": 16,
      "outputs": [
        {
          "output_type": "stream",
          "name": "stdout",
          "text": [
            "The final list is : [1, 2, 'Fizz', 4, 'Buzz', 'Fizz', 7, 8, 'Fizz', 'Buzz']\n"
          ]
        }
      ]
    },
    {
      "cell_type": "markdown",
      "source": [
        "#**Question 10**\n"
      ],
      "metadata": {
        "id": "c9la4Kj0Jmun"
      }
    },
    {
      "cell_type": "code",
      "source": [
        "for i in range(5,0, -1):\n",
        "  for j in range(i,0,-1):\n",
        "    print(j, end='')\n",
        "  print()\n",
        "\n"
      ],
      "metadata": {
        "colab": {
          "base_uri": "https://localhost:8080/"
        },
        "id": "scrdvCAgHFLk",
        "outputId": "18186f7b-ee3f-4dac-cb4a-92b5851b2710"
      },
      "execution_count": 20,
      "outputs": [
        {
          "output_type": "stream",
          "name": "stdout",
          "text": [
            "54321\n",
            "4321\n",
            "321\n",
            "21\n",
            "1\n"
          ]
        }
      ]
    },
    {
      "cell_type": "code",
      "source": [],
      "metadata": {
        "id": "5LCvLqIlRlmb"
      },
      "execution_count": null,
      "outputs": []
    }
  ]
}