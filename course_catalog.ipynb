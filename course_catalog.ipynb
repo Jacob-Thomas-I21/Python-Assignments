{
  "nbformat": 4,
  "nbformat_minor": 0,
  "metadata": {
    "colab": {
      "provenance": []
    },
    "kernelspec": {
      "name": "python3",
      "display_name": "Python 3"
    },
    "language_info": {
      "name": "python"
    }
  },
  "cells": [
    {
      "cell_type": "markdown",
      "source": [
        "# **Excercise 1**"
      ],
      "metadata": {
        "id": "OQpZlfTCqlUI"
      }
    },
    {
      "cell_type": "code",
      "source": [
        "# course_catalog.py\n",
        "class Course:\n",
        "    def __init__(self, course_code, course_name, credit_hours):\n",
        "\n",
        "        self.course_code = course_code\n",
        "        self.course_name = course_name\n",
        "        self.credit_hours = credit_hours\n",
        "\n",
        "    def display_course_info(self):\n",
        "\n",
        "        return f\"{self.course_code}: {self.course_name} ({self.credit_hours} credit hours)\""
      ],
      "metadata": {
        "id": "54etL1pVsToe"
      },
      "execution_count": null,
      "outputs": []
    },
    {
      "cell_type": "code",
      "source": [
        "class CoreCourse(Course):\n",
        "    def __init__(self, course_code, course_name, credit_hours, required_for_major):\n",
        "\n",
        "        super().__init__(course_code, course_name, credit_hours)\n",
        "        self.required_for_major = required_for_major\n",
        "\n",
        "    def display_course_info(self):\n",
        "        return super().display_course_info() + f\" - Required for major: {'Yes' if self.required_for_major else 'No'}\"\n"
      ],
      "metadata": {
        "id": "tcZL79XNsaUh"
      },
      "execution_count": null,
      "outputs": []
    },
    {
      "cell_type": "code",
      "source": [
        "class ElectiveCourse(Course):\n",
        "    def __init__(self, course_code, course_name, credit_hours, elective_type):\n",
        "\n",
        "        super().__init__(course_code, course_name, credit_hours)\n",
        "        self.elective_type = elective_type\n",
        "\n",
        "    def display_course_info(self):\n",
        "        return super().display_course_info() + f\" - Elective Type: {self.elective_type}\"\n"
      ],
      "metadata": {
        "id": "A9NCzTodscvc"
      },
      "execution_count": null,
      "outputs": []
    }
  ]
}