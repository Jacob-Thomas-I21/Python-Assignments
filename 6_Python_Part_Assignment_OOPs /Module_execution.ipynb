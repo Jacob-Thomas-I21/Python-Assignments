{
  "nbformat": 4,
  "nbformat_minor": 0,
  "metadata": {
    "colab": {
      "provenance": []
    },
    "kernelspec": {
      "name": "python3",
      "display_name": "Python 3"
    },
    "language_info": {
      "name": "python"
    }
  },
  "cells": [
    {
      "cell_type": "markdown",
      "source": [
        "# **Excercise 2**"
      ],
      "metadata": {
        "id": "OQpZlfTCqlUI"
      }
    },
    {
      "cell_type": "code",
      "source": [
        "# Import Employee from employee.py\n",
        "from employee import Employee\n",
        "\n",
        "# Import Course, CoreCourse, and ElectiveCourse from course_catalog.py\n",
        "from course_catalog import Course, CoreCourse, ElectiveCourse\n",
        "\n",
        "def module_execution():\n",
        "\n",
        "    emp1 = Employee(\"Alice Johnson\", 60000)\n",
        "\n",
        "    print(f\"Employee Name: {emp1.get_name()}\")\n",
        "    print(f\"Employee Salary: ${emp1.get_salary()}\")\n",
        "\n",
        "    core_course = CoreCourse(\"CS101\", \"Introduction to Computer Science\", 3, True)\n",
        "    elective_course = ElectiveCourse(\"ART201\", \"Modern Art\", 2, \"liberal arts\")\n",
        "\n",
        "    print(\"\\nCourse Catalog:\")\n",
        "    print(core_course.display_course_info())\n",
        "    print(elective_course.display_course_info())\n",
        "\n",
        "if __name__ == \"__main__\":\n",
        "  module_execution()\n",
        "\n"
      ],
      "metadata": {
        "colab": {
          "base_uri": "https://localhost:8080/"
        },
        "id": "Sz1-BrHuulRo",
        "outputId": "ef00343f-fcb8-4e42-b27c-6eb0740e3f0e"
      },
      "execution_count": 2,
      "outputs": [
        {
          "output_type": "stream",
          "name": "stdout",
          "text": [
            "Employee Name: Alice Johnson\n",
            "Employee Salary: $60000\n",
            "\n",
            "Course Catalog:\n",
            "CS101: Introduction to Computer Science (3 credit hours) - Required for major: Yes\n",
            "ART201: Modern Art (2 credit hours) - Elective Type: liberal arts\n"
          ]
        }
      ]
    },
    {
      "cell_type": "markdown",
      "source": [],
      "metadata": {
        "id": "FKw6vl9-svWc"
      }
    }
  ]
}
