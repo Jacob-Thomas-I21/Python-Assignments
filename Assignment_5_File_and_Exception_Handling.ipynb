{
  "nbformat": 4,
  "nbformat_minor": 0,
  "metadata": {
    "colab": {
      "provenance": []
    },
    "kernelspec": {
      "name": "python3",
      "display_name": "Python 3"
    },
    "language_info": {
      "name": "python"
    }
  },
  "cells": [
    {
      "cell_type": "markdown",
      "source": [
        "# **Exercise 1: Read and display file contents**"
      ],
      "metadata": {
        "id": "JYE3W7IC5TIa"
      }
    },
    {
      "cell_type": "code",
      "execution_count": 18,
      "metadata": {
        "colab": {
          "base_uri": "https://localhost:8080/"
        },
        "id": "6rq7xdBn04Ns",
        "outputId": "9bf0952d-52a9-4248-de20-1b956c0b778b"
      },
      "outputs": [
        {
          "output_type": "stream",
          "name": "stdout",
          "text": [
            "File Contents:\n",
            " This is a sample text file.\n",
            "It contains multiple lines of text.\n",
            "Python is used to read and process this file.\n",
            "File handling is an important concept in Python.\n",
            "\n"
          ]
        }
      ],
      "source": [
        "def read_file(filename):\n",
        "    try:\n",
        "\n",
        "        with open(filename, 'r') as file:\n",
        "            content = file.read()\n",
        "            print(\"File Contents:\\n\", content)\n",
        "\n",
        "    except FileNotFoundError:\n",
        "        print(\"Error: File not found.\")\n",
        "\n",
        "    except Exception as e:\n",
        "        print(\"Error:\", e)\n",
        "\n",
        "\n",
        "read_file(\"sample.txt\")\n",
        "\n"
      ]
    },
    {
      "cell_type": "markdown",
      "source": [
        "# **Exercise 2: Copy contents of one file to another**"
      ],
      "metadata": {
        "id": "GW_by-Ot5hGg"
      }
    },
    {
      "cell_type": "code",
      "source": [
        "def copy_file(source_file, destination_file):\n",
        "    try:\n",
        "        with open(source_file, 'r') as src, open(destination_file, 'w') as dest:\n",
        "            dest.write(src.read())\n",
        "        print(f\"Contents copied from {source_file} to {destination_file}\")\n",
        "\n",
        "    except FileNotFoundError:\n",
        "        print(\"Error: Source file not found.\")\n",
        "\n",
        "    except Exception as e:\n",
        "        print(\"Error:\", e)\n",
        "\n",
        "\n",
        "copy_file(\"sample.txt\", \"copy.txt\")"
      ],
      "metadata": {
        "id": "VmvaKbkQ5hlh",
        "colab": {
          "base_uri": "https://localhost:8080/"
        },
        "outputId": "f7b36f8b-40dc-4971-b7ad-ff8a88bd2828"
      },
      "execution_count": 19,
      "outputs": [
        {
          "output_type": "stream",
          "name": "stdout",
          "text": [
            "Contents copied from sample.txt to copy.txt\n"
          ]
        }
      ]
    },
    {
      "cell_type": "markdown",
      "source": [
        "# **Exercise 3: Count the total number of words in a file**"
      ],
      "metadata": {
        "id": "a6bHBXUS5lSu"
      }
    },
    {
      "cell_type": "code",
      "source": [
        "def count_words(filename):\n",
        "    try:\n",
        "        with open(filename, 'r') as file:\n",
        "            content = file.read()\n",
        "            word_count = len(content.split())\n",
        "            print(f\"Total number of words in {filename}: {word_count}\")\n",
        "\n",
        "    except FileNotFoundError:\n",
        "        print(\"Error: File not found.\")\n",
        "\n",
        "    except Exception as e:\n",
        "        print(\"Error:\", e)\n",
        "\n",
        "count_words(\"sample.txt\")"
      ],
      "metadata": {
        "id": "1MUhj5XS5lSv",
        "colab": {
          "base_uri": "https://localhost:8080/"
        },
        "outputId": "2cdc91c9-39bb-4006-d93b-cf79fdbf5170"
      },
      "execution_count": 20,
      "outputs": [
        {
          "output_type": "stream",
          "name": "stdout",
          "text": [
            "Total number of words in sample.txt: 29\n"
          ]
        }
      ]
    },
    {
      "cell_type": "markdown",
      "source": [
        "# **Exercise 4: Convert user input string to an integer with exception handling**"
      ],
      "metadata": {
        "id": "wlGOpF8S5lmW"
      }
    },
    {
      "cell_type": "code",
      "source": [
        "def convert_to_integer():\n",
        "    while True:\n",
        "\n",
        "        try:\n",
        "            num = int(input(\"Enter a number: \"))\n",
        "            print(f\"Successfully converted to integer: {num}\")\n",
        "            break\n",
        "\n",
        "        except ValueError:\n",
        "            print(\"Error: Please enter a valid integer.\")\n",
        "\n",
        "\n",
        "convert_to_integer()"
      ],
      "metadata": {
        "id": "AXGemKEk5lmW",
        "colab": {
          "base_uri": "https://localhost:8080/"
        },
        "outputId": "1c8ad82a-6288-429d-938e-9250472a711a"
      },
      "execution_count": 23,
      "outputs": [
        {
          "output_type": "stream",
          "name": "stdout",
          "text": [
            "Enter a number: l\n",
            "Error: Please enter a valid integer.\n",
            "Enter a number: 6\n",
            "Successfully converted to integer: 6\n"
          ]
        }
      ]
    },
    {
      "cell_type": "markdown",
      "source": [
        "# **Exercise 5: Check for negative numbers in user-input list**"
      ],
      "metadata": {
        "id": "fZcjJLeU5mC2"
      }
    },
    {
      "cell_type": "code",
      "source": [
        "def check_negative_numbers():\n",
        "    try:\n",
        "        nums = list(map(int, input(\"Enter a list of integers separated by space: \").split()))\n",
        "        if any(n < 0 for n in nums):\n",
        "            raise ValueError(\"Negative numbers are not allowed!\")\n",
        "        print(\"All numbers are valid:\", nums)\n",
        "\n",
        "    except ValueError as e:\n",
        "        print(\"Error:\", e)\n",
        "\n",
        "check_negative_numbers()"
      ],
      "metadata": {
        "id": "tFwBzPJV5mC3",
        "colab": {
          "base_uri": "https://localhost:8080/"
        },
        "outputId": "d80a621b-ff9c-4db2-cecc-471c9cf202ab"
      },
      "execution_count": 24,
      "outputs": [
        {
          "output_type": "stream",
          "name": "stdout",
          "text": [
            "Enter a list of integers separated by space: -6\n",
            "Error: Negative numbers are not allowed!\n"
          ]
        }
      ]
    },
    {
      "cell_type": "markdown",
      "source": [
        "# **Exercise 6: Compute average of user-input list with exception handling**"
      ],
      "metadata": {
        "id": "CRPvVoH85nk9"
      }
    },
    {
      "cell_type": "code",
      "source": [
        "def compute_average():\n",
        "    try:\n",
        "        nums = list(map(int, input(\"Enter a list of integers separated by space: \").split()))\n",
        "        avg = sum(nums) / len(nums)\n",
        "        print(f\"Average of the numbers: {avg}\")\n",
        "\n",
        "    except ZeroDivisionError:\n",
        "        print(\"Error: Cannot compute average of an empty list.\")\n",
        "\n",
        "    except ValueError:\n",
        "        print(\"Error: Please enter valid integers.\")\n",
        "\n",
        "    finally:\n",
        "        print(\"Program execution finished.\")\n",
        "\n",
        "compute_average()"
      ],
      "metadata": {
        "id": "lqcikS_25nk9",
        "colab": {
          "base_uri": "https://localhost:8080/"
        },
        "outputId": "ef59cade-9a7b-40a2-9e56-3e55c10c6384"
      },
      "execution_count": 25,
      "outputs": [
        {
          "output_type": "stream",
          "name": "stdout",
          "text": [
            "Enter a list of integers separated by space: 65 7896\n",
            "Average of the numbers: 3980.5\n",
            "Program execution finished.\n"
          ]
        }
      ]
    },
    {
      "cell_type": "markdown",
      "source": [
        "# **Exercise 7: Write a string to a user-defined file with exception handling**"
      ],
      "metadata": {
        "id": "j0Hmd_SL5n2N"
      }
    },
    {
      "cell_type": "code",
      "source": [
        "def write_to_file():\n",
        "    try:\n",
        "        filename = input(\"Enter the filename to write: \")\n",
        "        content = input(\"Enter the content to write into the file: \")\n",
        "\n",
        "        with open(filename, 'w') as file:\n",
        "            file.write(content)\n",
        "        print(\"File written successfully.\")\n",
        "\n",
        "    except Exception as e:\n",
        "        print(\"Error:\", e)\n",
        "\n",
        "    else:\n",
        "        print(\"Welcome! No errors encountered.\")\n",
        "\n",
        "write_to_file()\n"
      ],
      "metadata": {
        "id": "8a4OtpmD5n2O",
        "colab": {
          "base_uri": "https://localhost:8080/"
        },
        "outputId": "7dde8ea4-63f4-4d89-a115-6b1ed115b54b"
      },
      "execution_count": 26,
      "outputs": [
        {
          "output_type": "stream",
          "name": "stdout",
          "text": [
            "Enter the filename to write: Entri assignment python 5\n",
            "Enter the content to write into the file: this file is for a function in python assignment 5\n",
            "File written successfully.\n",
            "Welcome! No errors encountered.\n"
          ]
        }
      ]
    },
    {
      "cell_type": "code",
      "source": [
        "\n",
        "\n",
        "\n",
        "\n",
        "\n",
        "\n",
        "\n",
        "\n",
        "\n"
      ],
      "metadata": {
        "id": "8jNFIakA5ioZ"
      },
      "execution_count": null,
      "outputs": []
    }
  ]
}