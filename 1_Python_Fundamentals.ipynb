{
  "nbformat": 4,
  "nbformat_minor": 0,
  "metadata": {
    "colab": {
      "provenance": []
    },
    "kernelspec": {
      "name": "python3",
      "display_name": "Python 3"
    },
    "language_info": {
      "name": "python"
    }
  },
  "cells": [
    {
      "cell_type": "markdown",
      "source": [
        "# ***Excercise 1***"
      ],
      "metadata": {
        "id": "k-_NiTmhTDl6"
      }
    },
    {
      "cell_type": "code",
      "execution_count": null,
      "metadata": {
        "colab": {
          "base_uri": "https://localhost:8080/"
        },
        "id": "97zGLTc1SZg8",
        "outputId": "d359fa5c-a0d7-45b9-be7c-101795093830"
      },
      "outputs": [
        {
          "output_type": "stream",
          "name": "stdout",
          "text": [
            "Name : Jacob Thomas Joshy\n",
            "Student number : ST0020\n",
            "E-mail : jacobtjoshy@gmail.com\n"
          ]
        }
      ],
      "source": [
        "Student_details = {'Name':'Jacob Thomas Joshy','Student number':'ST0020', 'E-mail':'jacobtjoshy@gmail.com' }\n",
        "for i in Student_details:\n",
        "  print(f\"{i} : {Student_details.get(i)}\")"
      ]
    },
    {
      "cell_type": "markdown",
      "source": [
        "# ***Excercise 2***"
      ],
      "metadata": {
        "id": "ERNgqkgxWquv"
      }
    },
    {
      "cell_type": "code",
      "source": [
        "print(\"Name : Jacob Thomas Joshy\\nStudent number : ST0020\\nE-mail : jacobtjoshy@gmail.com\")"
      ],
      "metadata": {
        "colab": {
          "base_uri": "https://localhost:8080/"
        },
        "id": "Vml5D-dKS_pn",
        "outputId": "716972c6-da46-4a04-a69a-d0afad643c2e"
      },
      "execution_count": null,
      "outputs": [
        {
          "output_type": "stream",
          "name": "stdout",
          "text": [
            "Name : Jacob Thomas Joshy\n",
            "Student number : ST0020\n",
            "E-mail : jacobtjoshy@gmail.com\n"
          ]
        }
      ]
    },
    {
      "cell_type": "markdown",
      "source": [
        "# ***Excercise 3***"
      ],
      "metadata": {
        "id": "qUjoX0ZQXGtT"
      }
    },
    {
      "cell_type": "code",
      "source": [
        "Maths=[(14,7)]\n",
        "for (i,j) in Maths:\n",
        "  Add = i+j\n",
        "  Subtract = i-j\n",
        "  Multiply = i*j\n",
        "  Divide = i/j\n",
        "  print(f\"Addition of the two numbers provide : {Add}\\nSubtraction of the numbers provide : {Subtract}\\nMultiplication of the numbers provide :{Multiply}\\nDivision of the numbers provide :{Divide}\")"
      ],
      "metadata": {
        "colab": {
          "base_uri": "https://localhost:8080/"
        },
        "id": "1Y7JRLxCX-Gq",
        "outputId": "e6104306-30f9-4846-d6d0-83c07930282c"
      },
      "execution_count": null,
      "outputs": [
        {
          "output_type": "stream",
          "name": "stdout",
          "text": [
            "Addition of the two numbers provide : 21\n",
            "Subtraction of the numbers provide : 7\n",
            "Multiplication of the numbers provide :98\n",
            "Division of the numbers provide :2.0\n"
          ]
        }
      ]
    },
    {
      "cell_type": "markdown",
      "source": [
        "# ***Excercise 4***"
      ],
      "metadata": {
        "id": "23dN2DlTZs2C"
      }
    },
    {
      "cell_type": "code",
      "source": [
        "for i in range(1,6):\n",
        "  print(i)"
      ],
      "metadata": {
        "colab": {
          "base_uri": "https://localhost:8080/"
        },
        "id": "SH3nXpNxYMH5",
        "outputId": "d415145e-840a-4659-cbbb-4727bf126f3b"
      },
      "execution_count": null,
      "outputs": [
        {
          "output_type": "stream",
          "name": "stdout",
          "text": [
            "1\n",
            "2\n",
            "3\n",
            "4\n",
            "5\n"
          ]
        }
      ]
    },
    {
      "cell_type": "markdown",
      "source": [
        "# ***Excercise 5***"
      ],
      "metadata": {
        "id": "-1pmytnWZtid"
      }
    },
    {
      "cell_type": "code",
      "source": [
        "print('\\\"SDK\\\" stands for \\\"Software Development Kit\\\", whereas\\n\\\"IDE\\\" stands for \\\"Integrated Development Environment\\\".')\n"
      ],
      "metadata": {
        "colab": {
          "base_uri": "https://localhost:8080/"
        },
        "id": "SRH7cinAZuOw",
        "outputId": "ba5908f7-f415-49d4-a63f-ea0bda61afe2"
      },
      "execution_count": null,
      "outputs": [
        {
          "output_type": "stream",
          "name": "stdout",
          "text": [
            "\"SDK\" stands for \"Software Development Kit\", whereas\n",
            "\"IDE\" stands for \"Integrated Development Environment\".\n"
          ]
        }
      ]
    },
    {
      "cell_type": "markdown",
      "source": [
        "# ***Excercise 6***"
      ],
      "metadata": {
        "id": "Cww2dFXYZu_F"
      }
    },
    {
      "cell_type": "code",
      "source": [
        "print(\"python is an \\\"awesome\\\" language.\")\n",
        "print(\"python\\n\\t2023\")\n",
        "print('I\\'m from Entri.\\b')\n",
        "print(\"\\65\")\n",
        "print(\"\\x65\")\n",
        "print(\"Entri\", \"2023\", sep=\"\\n\")\n",
        "print(\"Entri\", \"2023\", sep=\"\\b\")\n",
        "print(\"Entri\", \"2023\", sep=\"*\", end=\"\\b\\b\\b\\b\")\n",
        "\n",
        "\n"
      ],
      "metadata": {
        "colab": {
          "base_uri": "https://localhost:8080/"
        },
        "id": "3weoJTCBeyjh",
        "outputId": "747fb291-a84a-4eb0-96bc-929c943ba5c0"
      },
      "execution_count": null,
      "outputs": [
        {
          "output_type": "stream",
          "name": "stdout",
          "text": [
            "python is an \"awesome\" language.\n",
            "python\n",
            "\t2023\n",
            "I'm from Entri.\b\n",
            "5\n",
            "e\n",
            "Entri\n",
            "2023\n",
            "Entri\b2023\n",
            "Entri*2023\b\b\b\b"
          ]
        }
      ]
    },
    {
      "cell_type": "markdown",
      "source": [
        "# ***Excercise 7***"
      ],
      "metadata": {
        "id": "oPhfMtGDgTXq"
      }
    },
    {
      "cell_type": "code",
      "source": [
        "num=23\n",
        "textnum=\"57\"\n",
        "decimal=98.3\n",
        "print(f'num is a {type(num)}\\ntextnum is a {type(textnum)}\\ndecimal is a{type(decimal)}')\n",
        "total_sum = num + int(textnum) + decimal\n",
        "print(f\"Sum: {total_sum}\\nType of sum: {type(total_sum)}\")"
      ],
      "metadata": {
        "colab": {
          "base_uri": "https://localhost:8080/"
        },
        "id": "_s6aELT7fxGi",
        "outputId": "5406df3b-544d-40f6-d9ca-b3d5a8eccd91"
      },
      "execution_count": null,
      "outputs": [
        {
          "output_type": "stream",
          "name": "stdout",
          "text": [
            "num is a <class 'int'>\n",
            "textnum is a <class 'str'>\n",
            "decimal is a<class 'float'>\n",
            "Sum: 178.3\n",
            "Type of sum: <class 'float'>\n"
          ]
        }
      ]
    },
    {
      "cell_type": "markdown",
      "source": [
        "# ***Excercise 8***"
      ],
      "metadata": {
        "id": "OfoIgKS8gTxi"
      }
    },
    {
      "cell_type": "code",
      "source": [
        "days_in_a_year = 365\n",
        "hours_in_a_day = 24\n",
        "minutes_in_a_hour = 60\n",
        "Total_no_of_minutes_in_a_year =  days_in_a_year * hours_in_a_day * minutes_in_a_hour\n",
        "print(f\"There are {Total_no_of_minutes_in_a_year} minutes in a year.\")"
      ],
      "metadata": {
        "id": "KpfOB98zgUXp",
        "colab": {
          "base_uri": "https://localhost:8080/"
        },
        "outputId": "155a1e34-3c27-458f-84e5-464bf724e997"
      },
      "execution_count": 2,
      "outputs": [
        {
          "output_type": "stream",
          "name": "stdout",
          "text": [
            "There are 525600 minutes in a year.\n"
          ]
        }
      ]
    },
    {
      "cell_type": "markdown",
      "source": [
        "# ***Excercise 9***"
      ],
      "metadata": {
        "id": "G_1RWNcgdiKS"
      }
    },
    {
      "cell_type": "code",
      "source": [
        "name =input(\"Kindly Enter Your Name :\")\n",
        "gender = input(\"Kindly Enter Your Gender as M/F :\")\n",
        "if gender == \"M\":\n",
        "  print(f\"Welcome To The Game show, Mr.{name}\")\n",
        "else:\n",
        "  print(f\"Welcome To The Game show, Ms.{name}\")\n"
      ],
      "metadata": {
        "id": "0xzUDWS7dPiO",
        "colab": {
          "base_uri": "https://localhost:8080/"
        },
        "outputId": "3104943f-a181-4f60-ea7a-c8c7bcd1527a"
      },
      "execution_count": 6,
      "outputs": [
        {
          "output_type": "stream",
          "name": "stdout",
          "text": [
            "Kindly Enter Your Name :Jacob\n",
            "Kindly Enter Your Gender as M/F :M\n",
            "Welcome To The Game show, Mr.Jacob\n"
          ]
        }
      ]
    },
    {
      "cell_type": "markdown",
      "source": [
        "# ***Excercise 10***"
      ],
      "metadata": {
        "id": "uJpAHC6vdkWp"
      }
    },
    {
      "cell_type": "code",
      "source": [
        "pounds_amount = float(input(\"Enter the amount in Pounds (£): \"))\n",
        "\n",
        "dollar_amount = pounds_amount * 1.22\n",
        "\n",
        "print(f\"Currently, £{pounds_amount} equals ${dollar_amount}.\")\n"
      ],
      "metadata": {
        "colab": {
          "base_uri": "https://localhost:8080/"
        },
        "id": "cVKSeHlaEC_-",
        "outputId": "cdff6127-25ff-484f-94c3-0e47e87cf06d"
      },
      "execution_count": 11,
      "outputs": [
        {
          "output_type": "stream",
          "name": "stdout",
          "text": [
            "Enter the amount in Pounds (£): 10\n",
            "Currently, £10.0 equals $12.2.\n"
          ]
        }
      ]
    },
    {
      "cell_type": "code",
      "source": [],
      "metadata": {
        "id": "0nnUYg30FsyZ"
      },
      "execution_count": null,
      "outputs": []
    }
  ]
}