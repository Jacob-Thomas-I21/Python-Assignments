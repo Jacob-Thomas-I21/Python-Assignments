{
  "nbformat": 4,
  "nbformat_minor": 0,
  "metadata": {
    "colab": {
      "provenance": []
    },
    "kernelspec": {
      "name": "python3",
      "display_name": "Python 3"
    },
    "language_info": {
      "name": "python"
    }
  },
  "cells": [
    {
      "cell_type": "markdown",
      "source": [
        "### ***LISTS***\n",
        "\n",
        "#***Question 1***"
      ],
      "metadata": {
        "id": "k-_NiTmhTDl6"
      }
    },
    {
      "cell_type": "code",
      "source": [
        "import random as rd\n",
        "list_of_random_numbers = [rd.randint(1, 9999) for _ in range(5)]\n",
        "\n",
        "print(\"List of random numbers:\", list_of_random_numbers)"
      ],
      "metadata": {
        "colab": {
          "base_uri": "https://localhost:8080/"
        },
        "id": "r3gX-AUAI_VE",
        "outputId": "b6a42e70-9650-4896-a70a-ced2ff1576b0"
      },
      "execution_count": 41,
      "outputs": [
        {
          "output_type": "stream",
          "name": "stdout",
          "text": [
            "List of random numbers: [1913, 898, 3691, 3898, 660]\n"
          ]
        }
      ]
    },
    {
      "cell_type": "markdown",
      "source": [
        "# ***Question 2***"
      ],
      "metadata": {
        "id": "Oi9Kn1noI_23"
      }
    },
    {
      "cell_type": "code",
      "source": [
        "print(\"Original List was :\", list_of_random_numbers)\n",
        "list_of_random_numbers.extend([rd.randint(1, 9999) for _ in range(3)])\n",
        "print(\"Updated List of random numbers:\",list_of_random_numbers)"
      ],
      "metadata": {
        "colab": {
          "base_uri": "https://localhost:8080/"
        },
        "id": "MZyRwBEQJ1IJ",
        "outputId": "d8b59b6e-499b-4391-b18a-0609b2d5eeaa"
      },
      "execution_count": 42,
      "outputs": [
        {
          "output_type": "stream",
          "name": "stdout",
          "text": [
            "Original List was : [1913, 898, 3691, 3898, 660]\n",
            "Updated List of random numbers: [1913, 898, 3691, 3898, 660, 9717, 9572, 4486]\n"
          ]
        }
      ]
    },
    {
      "cell_type": "markdown",
      "source": [
        "#***Question 3***"
      ],
      "metadata": {
        "id": "3w4B8Q3GPHaI"
      }
    },
    {
      "cell_type": "code",
      "source": [
        "for index, value in enumerate(list_of_random_numbers):\n",
        "  print(f\"Position : {index} and number is {value}\")"
      ],
      "metadata": {
        "colab": {
          "base_uri": "https://localhost:8080/"
        },
        "id": "2fTPufEJLxHR",
        "outputId": "86ec8e9d-e9ca-458d-94a2-5f914214c46a"
      },
      "execution_count": 43,
      "outputs": [
        {
          "output_type": "stream",
          "name": "stdout",
          "text": [
            "Position : 0 and number is 1913\n",
            "Position : 1 and number is 898\n",
            "Position : 2 and number is 3691\n",
            "Position : 3 and number is 3898\n",
            "Position : 4 and number is 660\n",
            "Position : 5 and number is 9717\n",
            "Position : 6 and number is 9572\n",
            "Position : 7 and number is 4486\n"
          ]
        }
      ]
    },
    {
      "cell_type": "markdown",
      "source": [
        "# *DICTIONARY*\n",
        "\n",
        "#***Question 1***"
      ],
      "metadata": {
        "id": "CYoXW2zhMjhp"
      }
    },
    {
      "cell_type": "code",
      "source": [
        "Personal_details ={\"Name\":\"John\", \"Age\":\"25\", \"Address\":\"New york\"}\n",
        "for i in Personal_details:\n",
        "  print(f\"{i}:{Personal_details.get(i)}\")\n"
      ],
      "metadata": {
        "colab": {
          "base_uri": "https://localhost:8080/"
        },
        "id": "53I_vFyIMpGn",
        "outputId": "13e21401-30fb-40ca-c6cf-b268637b072f"
      },
      "execution_count": 28,
      "outputs": [
        {
          "output_type": "stream",
          "name": "stdout",
          "text": [
            "Name:John\n",
            "Age:25\n",
            "Address:New york\n"
          ]
        }
      ]
    },
    {
      "cell_type": "markdown",
      "source": [
        "#***Question 2***"
      ],
      "metadata": {
        "id": "L3NnYXYDOxUS"
      }
    },
    {
      "cell_type": "code",
      "source": [
        "Personal_details.update({\"Phone number\":\"1234567890\"})\n",
        "for i in Personal_details:\n",
        "  print(f\"{i}:{Personal_details.get(i)}\")"
      ],
      "metadata": {
        "colab": {
          "base_uri": "https://localhost:8080/"
        },
        "id": "D5hrqrM4Ox-Y",
        "outputId": "2c4b5dea-c9f2-4d26-efaa-433b4c4f6602"
      },
      "execution_count": 29,
      "outputs": [
        {
          "output_type": "stream",
          "name": "stdout",
          "text": [
            "Name:John\n",
            "Age:25\n",
            "Address:New york\n",
            "Phone number:1234567890\n"
          ]
        }
      ]
    },
    {
      "cell_type": "markdown",
      "source": [
        "# *SETS*\n",
        "\n",
        "#***Question 1***"
      ],
      "metadata": {
        "id": "sLoy_LkKOooT"
      }
    },
    {
      "cell_type": "code",
      "source": [
        "set1 ={1,2,3,4,5}\n",
        "print(\"The set is :\", set1)"
      ],
      "metadata": {
        "colab": {
          "base_uri": "https://localhost:8080/"
        },
        "id": "sAMeq4B6PLhM",
        "outputId": "0dd7f8ee-74e5-4dfc-a90f-64412b890acf"
      },
      "execution_count": 48,
      "outputs": [
        {
          "output_type": "stream",
          "name": "stdout",
          "text": [
            "The set is : {1, 2, 3, 4, 5}\n"
          ]
        }
      ]
    },
    {
      "cell_type": "markdown",
      "source": [
        "# ***Question 2***"
      ],
      "metadata": {
        "id": "bMiC2_MvJAC_"
      }
    },
    {
      "cell_type": "code",
      "source": [
        "set1.add(6)\n",
        "print(\"Updated set is :\", set1)\n"
      ],
      "metadata": {
        "colab": {
          "base_uri": "https://localhost:8080/"
        },
        "id": "VQ3m4BZ3QC0d",
        "outputId": "cfb7892f-7f0f-4439-c1f1-3a24c85fbade"
      },
      "execution_count": 49,
      "outputs": [
        {
          "output_type": "stream",
          "name": "stdout",
          "text": [
            "Updated set is : {1, 2, 3, 4, 5, 6}\n"
          ]
        }
      ]
    },
    {
      "cell_type": "markdown",
      "source": [
        "# ***Question 3***"
      ],
      "metadata": {
        "id": "zx1ltf2uQIjd"
      }
    },
    {
      "cell_type": "code",
      "source": [
        "print(f\"Original set was: {set1}\")\n",
        "set1.remove(3)\n",
        "print(f\"The set after removing 3: {set1}\")\n",
        "\n"
      ],
      "metadata": {
        "colab": {
          "base_uri": "https://localhost:8080/"
        },
        "id": "pfRS8Z2hQKFU",
        "outputId": "b605b354-2102-4dd6-b29e-b31a99dd77dd"
      },
      "execution_count": 50,
      "outputs": [
        {
          "output_type": "stream",
          "name": "stdout",
          "text": [
            "Original set was: {1, 2, 3, 4, 5, 6}\n",
            "The set after removing 3: {1, 2, 4, 5, 6}\n"
          ]
        }
      ]
    },
    {
      "cell_type": "markdown",
      "source": [
        "# ***TUPLES***\n",
        "\n",
        "\n",
        "\n",
        "\n",
        "#***Question 1***"
      ],
      "metadata": {
        "id": "MbWVr4uIRPPd"
      }
    },
    {
      "cell_type": "code",
      "source": [
        "tuple1=(1,2,3,4,5)\n",
        "print(type(tuple1))\n",
        "print(\"The tuple is\",tuple1)"
      ],
      "metadata": {
        "colab": {
          "base_uri": "https://localhost:8080/"
        },
        "id": "vgyyJo4RRYik",
        "outputId": "38c10ac6-4a9f-49e4-a034-9d3395a67f38"
      },
      "execution_count": 37,
      "outputs": [
        {
          "output_type": "stream",
          "name": "stdout",
          "text": [
            "<class 'tuple'>\n",
            "The tuple is (1, 2, 3, 4, 5)\n"
          ]
        }
      ]
    },
    {
      "cell_type": "markdown",
      "source": [
        "# ***Question 2***"
      ],
      "metadata": {
        "id": "KGzNll8HJAzo"
      }
    },
    {
      "cell_type": "code",
      "source": [
        "print(len(tuple1))"
      ],
      "metadata": {
        "colab": {
          "base_uri": "https://localhost:8080/"
        },
        "id": "sjy-9DRhR31P",
        "outputId": "d9d3b67c-5786-4def-f545-22ce002f9494"
      },
      "execution_count": 38,
      "outputs": [
        {
          "output_type": "stream",
          "name": "stdout",
          "text": [
            "5\n"
          ]
        }
      ]
    },
    {
      "cell_type": "code",
      "source": [],
      "metadata": {
        "id": "Oo98gIyJR8AS"
      },
      "execution_count": null,
      "outputs": []
    }
  ]
}