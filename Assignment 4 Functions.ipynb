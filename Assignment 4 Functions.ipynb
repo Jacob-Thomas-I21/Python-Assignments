{
  "nbformat": 4,
  "nbformat_minor": 0,
  "metadata": {
    "colab": {
      "provenance": []
    },
    "kernelspec": {
      "name": "python3",
      "display_name": "Python 3"
    },
    "language_info": {
      "name": "python"
    }
  },
  "cells": [
    {
      "cell_type": "markdown",
      "source": [
        "## **Excercise 1**\n",
        "\n",
        "**What does the len() function do in Python? Write a code example using len() to find the length of a list.**\n",
        "\n",
        "len() function in python is a built in function returns the number of items in an object. It works with lists, strings, tuples, dictionaries, and other iterable objects.\n",
        "Items can be anythin like integers, strings, boolean values etc.."
      ],
      "metadata": {
        "id": "BJg928Ih14X0"
      }
    },
    {
      "cell_type": "code",
      "execution_count": 84,
      "metadata": {
        "colab": {
          "base_uri": "https://localhost:8080/"
        },
        "id": "WyTHvDyK0Uc3",
        "outputId": "f52dfe37-247a-47c8-f20d-aaac9950b0f6"
      },
      "outputs": [
        {
          "output_type": "stream",
          "name": "stdout",
          "text": [
            "Number of elements in list1 is : 6\n",
            "Number of characters in  Greeting(including spaces) is : 18\n"
          ]
        }
      ],
      "source": [
        "#For example\n",
        "list1 = [1,2,3,'list', 9.0, True]                                 # In case of lists, tuples etc.. it'll count the number of elemenst in them.\n",
        "print(\"Number of elements in list1 is :\", len(list1))\n",
        "Greeting = 'Hello Good Morning'                                   # However in case of such type of string variables or objects , it counts the characters.\n",
        "print(\"Number of characters in  Greeting(including spaces) is :\", len(Greeting))"
      ]
    },
    {
      "cell_type": "markdown",
      "source": [
        "## **Excercise 2**\n",
        " **Write a Python function greet(name) that takes a person's name as input and prints \"Hello, [name]!\".**\n"
      ],
      "metadata": {
        "id": "zPEtey-I3h0B"
      }
    },
    {
      "cell_type": "code",
      "source": [
        "def greet(name = None):\n",
        "\n",
        "  if name is None:\n",
        "    name = input(\"Enter your name :\").strip()\n",
        "\n",
        "  name = name.title()\n",
        "\n",
        "  if not name:\n",
        "    name = 'Guest'\n",
        "\n",
        "  print(f\"Hello, {name}\")\n",
        "\n",
        "greet(\"Jake\")\n",
        "greet()"
      ],
      "metadata": {
        "colab": {
          "base_uri": "https://localhost:8080/"
        },
        "id": "dBIW4mlz2vzz",
        "outputId": "dd1ef487-8b06-4150-fdd7-1e72afff9320"
      },
      "execution_count": 82,
      "outputs": [
        {
          "output_type": "stream",
          "name": "stdout",
          "text": [
            "Hello, Jake\n",
            "Enter your name :jacob\n",
            "Hello, Jacob\n"
          ]
        }
      ]
    },
    {
      "cell_type": "markdown",
      "source": [
        "## **Excercise 3**\n",
        " **Write a Python function find_maximum(numbers) that takes a list of integers and returns the maximum value without using the built-in max() function. Use a loop to iterate through the list and compare values.**\n"
      ],
      "metadata": {
        "id": "UIxmh5Fd54Ve"
      }
    },
    {
      "cell_type": "code",
      "source": [
        "def find_maximum(numbers):\n",
        "  if not numbers:\n",
        "    return None\n",
        "\n",
        "  maximum_value = numbers[0]\n",
        "  for num in numbers:\n",
        "\n",
        "    if num > maximum_value:\n",
        "      maximum_value = num\n",
        "\n",
        "  return maximum_value"
      ],
      "metadata": {
        "id": "WIR_sspz5vbl"
      },
      "execution_count": 74,
      "outputs": []
    },
    {
      "cell_type": "code",
      "source": [
        "import random as rd\n",
        "\n",
        "numbers = [rd.randint(1, 100) for _ in range(9)]\n",
        "print(f\"The intial generated list is : {numbers}\")\n",
        "\n",
        "list2 = [rd.randint(-100,100) for _ in range(9)]\n",
        "print(f\"Another generated list to cross-check the function is : {list2}\")\n",
        "\n",
        "print(f\"Maximum Number in list Numbers is : {find_maximum(numbers)}\")\n",
        "\n",
        "print(f\"Maximum Number in list list2 is : {find_maximum(list2)}\")"
      ],
      "metadata": {
        "colab": {
          "base_uri": "https://localhost:8080/"
        },
        "id": "oXvePm1553qi",
        "outputId": "f428e56b-0bc4-4c67-a7e6-ef6e6086b36f"
      },
      "execution_count": 76,
      "outputs": [
        {
          "output_type": "stream",
          "name": "stdout",
          "text": [
            "The intial generated list is : [55, 49, 51, 14, 93, 20, 51, 9, 78]\n",
            "Another generated list to cross-check the function is : [-7, -55, -22, 85, 85, 64, -24, 83, -73]\n",
            "Maximum Number in list Numbers is : 93\n",
            "Maximum Number in list list2 is : 85\n"
          ]
        }
      ]
    },
    {
      "cell_type": "markdown",
      "source": [
        "## **Excercise 4**\n",
        " **Explain the difference between local and global variables in a Python function. Write a program where a global variable and a local variable have the same name and show how Python differentiates between them.**\n",
        "\n",
        " Ans: Global variables are those variables defined outside any function and have a global scope, meaning they can be accessed and modified from anywhere in the script. To acess a global variable inside a function, 'global' keyword is used.\n",
        " While local variables are those variables which are defined in a function and do not have global scope. They exist only within that function. Local variable is not accessible anywhere in the script.\n",
        "\n"
      ],
      "metadata": {
        "id": "OpuygqIqB-y6"
      }
    },
    {
      "cell_type": "code",
      "source": [
        "\n",
        "message = \"I am a global variable\"  # This is a global variable and is acessible anywhere in script\n",
        "\n",
        "def my_function():\n",
        "\n",
        "    message = \"I am a local variable\"     # Local Variable\n",
        "    print(\"Inside the function:\", message)   #This prints only local variable\n",
        "\n",
        "my_function()\n",
        "print(\"Outside the function:\", message)  # This prints the global variable\n"
      ],
      "metadata": {
        "colab": {
          "base_uri": "https://localhost:8080/"
        },
        "id": "P2D25DSUB-Q1",
        "outputId": "7170073a-d181-4708-bfcb-4bb61d75226a"
      },
      "execution_count": 78,
      "outputs": [
        {
          "output_type": "stream",
          "name": "stdout",
          "text": [
            "Inside the function: I am a local variable\n",
            "Outside the function: I am a global variable\n"
          ]
        }
      ]
    },
    {
      "cell_type": "markdown",
      "source": [
        "## **Excercise 5**\n",
        " **Create a function calculate_area(length, width=5) that calculates the area of a rectangle. If only the length is provided, the function should assume the width is 5. Show how the function behaves when called with and without the width argument.**\n"
      ],
      "metadata": {
        "id": "GDkrtLxUG1HA"
      }
    },
    {
      "cell_type": "code",
      "source": [
        "def calculate_area(length, width=5):\n",
        "\n",
        "  if length < 0 or width < 0:\n",
        "        return \"Invalid input! Length and width must be non-negative.\"\n",
        "\n",
        "  if not width:\n",
        "    width = 5\n",
        "\n",
        "  area = length * width\n",
        "  print(f\"The area of the rectangle is : {area} \")\n"
      ],
      "metadata": {
        "id": "L6CTqpq3A1QQ"
      },
      "execution_count": 79,
      "outputs": []
    },
    {
      "cell_type": "code",
      "source": [
        "calculate_area(8)\n",
        "calculate_area(8,10)"
      ],
      "metadata": {
        "colab": {
          "base_uri": "https://localhost:8080/"
        },
        "id": "zqu-fMq_Hg63",
        "outputId": "6ee95fba-c910-4485-cb9f-b23abf37327c"
      },
      "execution_count": 80,
      "outputs": [
        {
          "output_type": "stream",
          "name": "stdout",
          "text": [
            "The area of the rectangle is : 40 \n",
            "The area of the rectangle is : 80 \n"
          ]
        }
      ]
    },
    {
      "cell_type": "code",
      "source": [],
      "metadata": {
        "id": "hhm5JmGTHk-R"
      },
      "execution_count": null,
      "outputs": []
    }
  ]
}