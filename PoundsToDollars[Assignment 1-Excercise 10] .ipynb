{
  "nbformat": 4,
  "nbformat_minor": 0,
  "metadata": {
    "colab": {
      "provenance": []
    },
    "kernelspec": {
      "name": "python3",
      "display_name": "Python 3"
    },
    "language_info": {
      "name": "python"
    }
  },
  "cells": [
    {
      "cell_type": "code",
      "source": [
        "pounds_amount = float(input(\"Enter the amount in Pounds (£): \"))\n",
        "\n",
        "dollar_amount = pounds_amount * 1.22\n",
        "\n",
        "print(f\"Currently, £{pounds_amount} equals ${dollar_amount}.\")\n"
      ],
      "metadata": {
        "colab": {
          "base_uri": "https://localhost:8080/"
        },
        "id": "cVKSeHlaEC_-",
        "outputId": "cdff6127-25ff-484f-94c3-0e47e87cf06d"
      },
      "execution_count": null,
      "outputs": [
        {
          "output_type": "stream",
          "name": "stdout",
          "text": [
            "Enter the amount in Pounds (£): 10\n",
            "Currently, £10.0 equals $12.2.\n"
          ]
        }
      ]
    }
  ]
}